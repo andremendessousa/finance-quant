{
 "cells": [
  {
   "cell_type": "markdown",
   "id": "d4097fcb",
   "metadata": {},
   "source": [
    "Example\n",
    "Let's say we have a complex strategy that has lots of (hyper-)parameters that have to be tuned. While brute-forcing all combinations seems to be a rather unrealistic attempt, we can still interpolate, and vectorbt makes exactly this possible. It doesn't care whether we have one strategy instance or millions. As soon as their vectors can be concatenated into a matrix and we have enough memory, we can analyze them in one go.\n",
    "\n",
    "Let's start with fetching the daily price of Bitcoin:"
   ]
  },
  {
   "cell_type": "code",
   "execution_count": 1,
   "id": "5102be77",
   "metadata": {},
   "outputs": [],
   "source": [
    "import numpy as np\n",
    "import pandas as pd\n",
    "from datetime import datetime\n",
    "import vectorbt as vbt"
   ]
  },
  {
   "cell_type": "code",
   "execution_count": 3,
   "id": "7ca12a58",
   "metadata": {},
   "outputs": [],
   "source": [
    "start = '2019-01-01 UTC'  # crypto is in UTC\n",
    "end = '2020-01-01 UTC'"
   ]
  },
  {
   "cell_type": "code",
   "execution_count": 4,
   "id": "3e77b3bf",
   "metadata": {},
   "outputs": [],
   "source": [
    "btc_price = vbt.YFData.download('BTC-USD', start=start, end=end).get('Close')"
   ]
  },
  {
   "cell_type": "markdown",
   "id": "701856a2",
   "metadata": {},
   "source": [
    "We are going to test a simple Dual Moving Average Crossover (DMAC) strategy. For this, we are going to use MA class for calculating moving averages and generating signals.\n",
    "\n",
    "Our first test is rather simple: buy when the 10-day moving average crosses above the 20-day moving average, and sell when opposite."
   ]
  },
  {
   "cell_type": "code",
   "execution_count": 5,
   "id": "285f056b",
   "metadata": {},
   "outputs": [],
   "source": [
    "fast_ma = vbt.MA.run(btc_price, 10, short_name='fast')\n",
    "slow_ma = vbt.MA.run(btc_price, 20, short_name='slow')"
   ]
  },
  {
   "cell_type": "code",
   "execution_count": 6,
   "id": "9f34bffd",
   "metadata": {},
   "outputs": [],
   "source": [
    "entries = fast_ma.ma_crossed_above(slow_ma)"
   ]
  },
  {
   "cell_type": "code",
   "execution_count": 7,
   "id": "f5fe181e",
   "metadata": {},
   "outputs": [],
   "source": [
    "exits = fast_ma.ma_crossed_below(slow_ma)"
   ]
  },
  {
   "cell_type": "code",
   "execution_count": 8,
   "id": "b64c28f4",
   "metadata": {},
   "outputs": [],
   "source": [
    "pf = vbt.Portfolio.from_signals(btc_price, entries, exits)"
   ]
  },
  {
   "cell_type": "code",
   "execution_count": 9,
   "id": "976f30b2",
   "metadata": {},
   "outputs": [
    {
     "data": {
      "text/plain": [
       "0.6351860771192923"
      ]
     },
     "execution_count": 9,
     "metadata": {},
     "output_type": "execute_result"
    }
   ],
   "source": [
    "pf.total_return()"
   ]
  },
  {
   "cell_type": "markdown",
   "id": "08a8707e",
   "metadata": {},
   "source": [
    "One strategy instance of DMAC produced one column in signals and one performance value.\n",
    "\n",
    "Adding one more strategy instance is as simple as adding one more column. Here we are passing an array of window sizes instead of a single value. For each window size in this array, it computes a moving average over the entire price series and stores it in a distinct column."
   ]
  },
  {
   "cell_type": "code",
   "execution_count": 10,
   "id": "9f2d2208",
   "metadata": {},
   "outputs": [],
   "source": [
    "# Multiple strategy instances: (10, 30) and (20, 30)\n",
    "fast_ma = vbt.MA.run(btc_price, [10, 20], short_name='fast')\n",
    "slow_ma = vbt.MA.run(btc_price, [30, 30], short_name='slow')"
   ]
  },
  {
   "cell_type": "code",
   "execution_count": 11,
   "id": "3c32eb12",
   "metadata": {},
   "outputs": [],
   "source": [
    "entries = fast_ma.ma_crossed_above(slow_ma)"
   ]
  },
  {
   "cell_type": "code",
   "execution_count": 12,
   "id": "7b9f8474",
   "metadata": {},
   "outputs": [],
   "source": [
    "exits = fast_ma.ma_crossed_below(slow_ma)"
   ]
  },
  {
   "cell_type": "code",
   "execution_count": 13,
   "id": "9cdf0b10",
   "metadata": {},
   "outputs": [
    {
     "data": {
      "text/plain": [
       "fast_window  slow_window\n",
       "10           30             0.847151\n",
       "20           30             0.543411\n",
       "Name: total_return, dtype: float64"
      ]
     },
     "execution_count": 13,
     "metadata": {},
     "output_type": "execute_result"
    }
   ],
   "source": [
    "pf = vbt.Portfolio.from_signals(btc_price, entries, exits)\n",
    "pf.total_return()"
   ]
  },
  {
   "cell_type": "markdown",
   "id": "d893e7f6",
   "metadata": {},
   "source": [
    "For the sake of convenience, vectorbt has created the column levels fast_window and slow_window for us to easily distinguish which window size corresponds to which column.\n",
    "\n",
    "Notice how signal generation part remains the same for each example - most functions in vectorbt work on time series of any shape. This allows creation of analysis pipelines that are universal to input data.\n",
    "\n",
    "The representation of different features as columns offers endless possibilities for backtesting. We could, for example, go a step further and conduct the same tests for Ethereum. To compare both instruments, combine price series for Bitcoin and Ethereum into one DataFrame and run the same backtesting pipeline."
   ]
  },
  {
   "cell_type": "code",
   "execution_count": 14,
   "id": "947149a2",
   "metadata": {},
   "outputs": [
    {
     "data": {
      "text/html": [
       "<div>\n",
       "<style scoped>\n",
       "    .dataframe tbody tr th:only-of-type {\n",
       "        vertical-align: middle;\n",
       "    }\n",
       "\n",
       "    .dataframe tbody tr th {\n",
       "        vertical-align: top;\n",
       "    }\n",
       "\n",
       "    .dataframe thead th {\n",
       "        text-align: right;\n",
       "    }\n",
       "</style>\n",
       "<table border=\"1\" class=\"dataframe\">\n",
       "  <thead>\n",
       "    <tr style=\"text-align: right;\">\n",
       "      <th>symbol</th>\n",
       "      <th>BTC</th>\n",
       "      <th>ETH</th>\n",
       "    </tr>\n",
       "    <tr>\n",
       "      <th>Date</th>\n",
       "      <th></th>\n",
       "      <th></th>\n",
       "    </tr>\n",
       "  </thead>\n",
       "  <tbody>\n",
       "    <tr>\n",
       "      <th>2019-01-01 00:00:00+00:00</th>\n",
       "      <td>3843.520020</td>\n",
       "      <td>140.819412</td>\n",
       "    </tr>\n",
       "    <tr>\n",
       "      <th>2019-01-02 00:00:00+00:00</th>\n",
       "      <td>3943.409424</td>\n",
       "      <td>155.047684</td>\n",
       "    </tr>\n",
       "    <tr>\n",
       "      <th>2019-01-03 00:00:00+00:00</th>\n",
       "      <td>3836.741211</td>\n",
       "      <td>149.135010</td>\n",
       "    </tr>\n",
       "    <tr>\n",
       "      <th>2019-01-04 00:00:00+00:00</th>\n",
       "      <td>3857.717529</td>\n",
       "      <td>154.581940</td>\n",
       "    </tr>\n",
       "    <tr>\n",
       "      <th>2019-01-05 00:00:00+00:00</th>\n",
       "      <td>3845.194580</td>\n",
       "      <td>155.638596</td>\n",
       "    </tr>\n",
       "    <tr>\n",
       "      <th>...</th>\n",
       "      <td>...</td>\n",
       "      <td>...</td>\n",
       "    </tr>\n",
       "    <tr>\n",
       "      <th>2019-12-27 00:00:00+00:00</th>\n",
       "      <td>7290.088379</td>\n",
       "      <td>127.214607</td>\n",
       "    </tr>\n",
       "    <tr>\n",
       "      <th>2019-12-28 00:00:00+00:00</th>\n",
       "      <td>7317.990234</td>\n",
       "      <td>128.322708</td>\n",
       "    </tr>\n",
       "    <tr>\n",
       "      <th>2019-12-29 00:00:00+00:00</th>\n",
       "      <td>7422.652832</td>\n",
       "      <td>134.757980</td>\n",
       "    </tr>\n",
       "    <tr>\n",
       "      <th>2019-12-30 00:00:00+00:00</th>\n",
       "      <td>7292.995117</td>\n",
       "      <td>132.633484</td>\n",
       "    </tr>\n",
       "    <tr>\n",
       "      <th>2019-12-31 00:00:00+00:00</th>\n",
       "      <td>7193.599121</td>\n",
       "      <td>129.610855</td>\n",
       "    </tr>\n",
       "  </tbody>\n",
       "</table>\n",
       "<p>365 rows × 2 columns</p>\n",
       "</div>"
      ],
      "text/plain": [
       "symbol                             BTC         ETH\n",
       "Date                                              \n",
       "2019-01-01 00:00:00+00:00  3843.520020  140.819412\n",
       "2019-01-02 00:00:00+00:00  3943.409424  155.047684\n",
       "2019-01-03 00:00:00+00:00  3836.741211  149.135010\n",
       "2019-01-04 00:00:00+00:00  3857.717529  154.581940\n",
       "2019-01-05 00:00:00+00:00  3845.194580  155.638596\n",
       "...                                ...         ...\n",
       "2019-12-27 00:00:00+00:00  7290.088379  127.214607\n",
       "2019-12-28 00:00:00+00:00  7317.990234  128.322708\n",
       "2019-12-29 00:00:00+00:00  7422.652832  134.757980\n",
       "2019-12-30 00:00:00+00:00  7292.995117  132.633484\n",
       "2019-12-31 00:00:00+00:00  7193.599121  129.610855\n",
       "\n",
       "[365 rows x 2 columns]"
      ]
     },
     "execution_count": 14,
     "metadata": {},
     "output_type": "execute_result"
    }
   ],
   "source": [
    "# Multiple strategy instances and instruments\n",
    "eth_price = vbt.YFData.download('ETH-USD', start=start, end=end).get('Close')\n",
    "comb_price = btc_price.vbt.concat(eth_price,\n",
    "    keys=pd.Index(['BTC', 'ETH'], name='symbol'))\n",
    "comb_price.vbt.drop_levels(-1, inplace=True)\n",
    "\n",
    "comb_price"
   ]
  },
  {
   "cell_type": "code",
   "execution_count": 15,
   "id": "63aef4ce",
   "metadata": {},
   "outputs": [],
   "source": [
    "fast_ma = vbt.MA.run(comb_price, [10, 20], short_name='fast')\n",
    "slow_ma = vbt.MA.run(comb_price, [30, 30], short_name='slow')"
   ]
  },
  {
   "cell_type": "code",
   "execution_count": 16,
   "id": "e99f4429",
   "metadata": {},
   "outputs": [],
   "source": [
    "entries = fast_ma.ma_crossed_above(slow_ma)"
   ]
  },
  {
   "cell_type": "code",
   "execution_count": 17,
   "id": "6becdbee",
   "metadata": {},
   "outputs": [],
   "source": [
    "exits = fast_ma.ma_crossed_below(slow_ma)"
   ]
  },
  {
   "cell_type": "code",
   "execution_count": 18,
   "id": "dc9aa939",
   "metadata": {},
   "outputs": [
    {
     "data": {
      "text/plain": [
       "fast_window  slow_window  symbol\n",
       "10           30           BTC       0.847151\n",
       "                          ETH       0.244204\n",
       "20           30           BTC       0.543411\n",
       "                          ETH      -0.319102\n",
       "Name: total_return, dtype: float64"
      ]
     },
     "execution_count": 18,
     "metadata": {},
     "output_type": "execute_result"
    }
   ],
   "source": [
    "pf = vbt.Portfolio.from_signals(comb_price, entries, exits)\n",
    "pf.total_return()"
   ]
  },
  {
   "cell_type": "code",
   "execution_count": 19,
   "id": "d13d47d7",
   "metadata": {},
   "outputs": [
    {
     "data": {
      "application/vnd.jupyter.widget-view+json": {
       "model_id": "9b89ca888a084e2a89808dad76dd2936",
       "version_major": 2,
       "version_minor": 0
      },
      "text/plain": [
       "FigureWidget({\n",
       "    'data': [{'name': 'total_return',\n",
       "              'showlegend': True,\n",
       "              'type': 'bar',\n",
       "              'uid': 'e4033c48-7fd8-4008-91f3-4f3df589b463',\n",
       "              'x': array(['BTC', 'ETH'], dtype=object),\n",
       "              'y': array([ 0.69528142, -0.03744928])}],\n",
       "    'layout': {'height': 350,\n",
       "               'legend': {'orientation': 'h',\n",
       "                          'traceorder': 'normal',\n",
       "                          'x': 1,\n",
       "                          'xanchor': 'right',\n",
       "                          'y': 1.02,\n",
       "                          'yanchor': 'bottom'},\n",
       "               'margin': {'b': 30, 'l': 30, 'r': 30, 't': 30},\n",
       "               'template': '...',\n",
       "               'width': 700,\n",
       "               'xaxis': {'title': {'text': 'Symbol'}},\n",
       "               'yaxis': {'title': {'text': 'Mean total return'}}}\n",
       "})"
      ]
     },
     "execution_count": 19,
     "metadata": {},
     "output_type": "execute_result"
    }
   ],
   "source": [
    "mean_return = pf.total_return().groupby('symbol').mean()\n",
    "mean_return.vbt.barplot(xaxis_title='Symbol', yaxis_title='Mean total return')"
   ]
  }
 ],
 "metadata": {
  "kernelspec": {
   "display_name": "finance_vectorbt",
   "language": "python",
   "name": "python3"
  },
  "language_info": {
   "codemirror_mode": {
    "name": "ipython",
    "version": 3
   },
   "file_extension": ".py",
   "mimetype": "text/x-python",
   "name": "python",
   "nbconvert_exporter": "python",
   "pygments_lexer": "ipython3",
   "version": "3.11.13"
  }
 },
 "nbformat": 4,
 "nbformat_minor": 5
}
